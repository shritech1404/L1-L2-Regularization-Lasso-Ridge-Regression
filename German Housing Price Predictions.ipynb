{
 "cells": [
  {
   "cell_type": "code",
   "execution_count": 1,
   "metadata": {},
   "outputs": [],
   "source": [
    "import pandas as pd"
   ]
  },
  {
   "cell_type": "code",
   "execution_count": 2,
   "metadata": {},
   "outputs": [],
   "source": [
    "import warnings\n",
    "warnings.filterwarnings('ignore')"
   ]
  },
  {
   "cell_type": "code",
   "execution_count": 3,
   "metadata": {},
   "outputs": [],
   "source": [
    "dataset = pd.read_csv(\"germany_housing_data_14.07.2020.csv\")"
   ]
  },
  {
   "cell_type": "code",
   "execution_count": 4,
   "metadata": {},
   "outputs": [
    {
     "data": {
      "text/html": [
       "<div>\n",
       "<style scoped>\n",
       "    .dataframe tbody tr th:only-of-type {\n",
       "        vertical-align: middle;\n",
       "    }\n",
       "\n",
       "    .dataframe tbody tr th {\n",
       "        vertical-align: top;\n",
       "    }\n",
       "\n",
       "    .dataframe thead th {\n",
       "        text-align: right;\n",
       "    }\n",
       "</style>\n",
       "<table border=\"1\" class=\"dataframe\">\n",
       "  <thead>\n",
       "    <tr style=\"text-align: right;\">\n",
       "      <th></th>\n",
       "      <th>Unnamed: 0</th>\n",
       "      <th>Price</th>\n",
       "      <th>Type</th>\n",
       "      <th>Living_space</th>\n",
       "      <th>Lot</th>\n",
       "      <th>Usable_area</th>\n",
       "      <th>Free_of_Relation</th>\n",
       "      <th>Rooms</th>\n",
       "      <th>Bedrooms</th>\n",
       "      <th>Bathrooms</th>\n",
       "      <th>...</th>\n",
       "      <th>Energy_source</th>\n",
       "      <th>Energy_certificate</th>\n",
       "      <th>Energy_certificate_type</th>\n",
       "      <th>Energy_consumption</th>\n",
       "      <th>Energy_efficiency_class</th>\n",
       "      <th>State</th>\n",
       "      <th>City</th>\n",
       "      <th>Place</th>\n",
       "      <th>Garages</th>\n",
       "      <th>Garagetype</th>\n",
       "    </tr>\n",
       "  </thead>\n",
       "  <tbody>\n",
       "    <tr>\n",
       "      <th>0</th>\n",
       "      <td>0</td>\n",
       "      <td>498000.0</td>\n",
       "      <td>Multiple dwelling</td>\n",
       "      <td>106.00</td>\n",
       "      <td>229.0</td>\n",
       "      <td>NaN</td>\n",
       "      <td>01.10.2020</td>\n",
       "      <td>5.5</td>\n",
       "      <td>3.0</td>\n",
       "      <td>1.0</td>\n",
       "      <td>...</td>\n",
       "      <td>Gas</td>\n",
       "      <td>available</td>\n",
       "      <td>demand certificate</td>\n",
       "      <td>NaN</td>\n",
       "      <td>D</td>\n",
       "      <td>Baden-Württemberg</td>\n",
       "      <td>Bodenseekreis</td>\n",
       "      <td>Bermatingen</td>\n",
       "      <td>2.0</td>\n",
       "      <td>Parking lot</td>\n",
       "    </tr>\n",
       "    <tr>\n",
       "      <th>1</th>\n",
       "      <td>1</td>\n",
       "      <td>495000.0</td>\n",
       "      <td>Mid-terrace house</td>\n",
       "      <td>140.93</td>\n",
       "      <td>517.0</td>\n",
       "      <td>20.00</td>\n",
       "      <td>01.01.2021</td>\n",
       "      <td>6.0</td>\n",
       "      <td>3.0</td>\n",
       "      <td>2.0</td>\n",
       "      <td>...</td>\n",
       "      <td>NaN</td>\n",
       "      <td>not required by law</td>\n",
       "      <td>NaN</td>\n",
       "      <td>NaN</td>\n",
       "      <td>NaN</td>\n",
       "      <td>Baden-Württemberg</td>\n",
       "      <td>Konstanz (Kreis)</td>\n",
       "      <td>Engen</td>\n",
       "      <td>7.0</td>\n",
       "      <td>Parking lot</td>\n",
       "    </tr>\n",
       "    <tr>\n",
       "      <th>2</th>\n",
       "      <td>2</td>\n",
       "      <td>749000.0</td>\n",
       "      <td>Farmhouse</td>\n",
       "      <td>162.89</td>\n",
       "      <td>82.0</td>\n",
       "      <td>37.62</td>\n",
       "      <td>01.07.2020</td>\n",
       "      <td>5.0</td>\n",
       "      <td>3.0</td>\n",
       "      <td>2.0</td>\n",
       "      <td>...</td>\n",
       "      <td>Fernwärme, Bioenergie</td>\n",
       "      <td>available</td>\n",
       "      <td>demand certificate</td>\n",
       "      <td>NaN</td>\n",
       "      <td>B</td>\n",
       "      <td>Baden-Württemberg</td>\n",
       "      <td>Esslingen (Kreis)</td>\n",
       "      <td>Ostfildern</td>\n",
       "      <td>1.0</td>\n",
       "      <td>Garage</td>\n",
       "    </tr>\n",
       "    <tr>\n",
       "      <th>3</th>\n",
       "      <td>3</td>\n",
       "      <td>259000.0</td>\n",
       "      <td>Farmhouse</td>\n",
       "      <td>140.00</td>\n",
       "      <td>814.0</td>\n",
       "      <td>NaN</td>\n",
       "      <td>nach Vereinbarung</td>\n",
       "      <td>4.0</td>\n",
       "      <td>NaN</td>\n",
       "      <td>2.0</td>\n",
       "      <td>...</td>\n",
       "      <td>Strom</td>\n",
       "      <td>available</td>\n",
       "      <td>demand certificate</td>\n",
       "      <td>NaN</td>\n",
       "      <td>G</td>\n",
       "      <td>Baden-Württemberg</td>\n",
       "      <td>Waldshut (Kreis)</td>\n",
       "      <td>Bonndorf im Schwarzwald</td>\n",
       "      <td>1.0</td>\n",
       "      <td>Garage</td>\n",
       "    </tr>\n",
       "    <tr>\n",
       "      <th>4</th>\n",
       "      <td>4</td>\n",
       "      <td>469000.0</td>\n",
       "      <td>Multiple dwelling</td>\n",
       "      <td>115.00</td>\n",
       "      <td>244.0</td>\n",
       "      <td>NaN</td>\n",
       "      <td>sofort</td>\n",
       "      <td>4.5</td>\n",
       "      <td>2.0</td>\n",
       "      <td>1.0</td>\n",
       "      <td>...</td>\n",
       "      <td>Öl</td>\n",
       "      <td>available</td>\n",
       "      <td>demand certificate</td>\n",
       "      <td>NaN</td>\n",
       "      <td>F</td>\n",
       "      <td>Baden-Württemberg</td>\n",
       "      <td>Esslingen (Kreis)</td>\n",
       "      <td>Leinfelden-Echterdingen</td>\n",
       "      <td>1.0</td>\n",
       "      <td>Garage</td>\n",
       "    </tr>\n",
       "  </tbody>\n",
       "</table>\n",
       "<p>5 rows × 26 columns</p>\n",
       "</div>"
      ],
      "text/plain": [
       "   Unnamed: 0     Price               Type  Living_space    Lot  Usable_area  \\\n",
       "0           0  498000.0  Multiple dwelling        106.00  229.0          NaN   \n",
       "1           1  495000.0  Mid-terrace house        140.93  517.0        20.00   \n",
       "2           2  749000.0          Farmhouse        162.89   82.0        37.62   \n",
       "3           3  259000.0          Farmhouse        140.00  814.0          NaN   \n",
       "4           4  469000.0  Multiple dwelling        115.00  244.0          NaN   \n",
       "\n",
       "      Free_of_Relation  Rooms  Bedrooms  Bathrooms  ...  \\\n",
       "0          01.10.2020     5.5       3.0        1.0  ...   \n",
       "1          01.01.2021     6.0       3.0        2.0  ...   \n",
       "2          01.07.2020     5.0       3.0        2.0  ...   \n",
       "3   nach Vereinbarung     4.0       NaN        2.0  ...   \n",
       "4              sofort     4.5       2.0        1.0  ...   \n",
       "\n",
       "             Energy_source   Energy_certificate Energy_certificate_type  \\\n",
       "0                     Gas             available      demand certificate   \n",
       "1                      NaN  not required by law                     NaN   \n",
       "2   Fernwärme, Bioenergie             available      demand certificate   \n",
       "3                   Strom             available      demand certificate   \n",
       "4                      Öl             available      demand certificate   \n",
       "\n",
       "   Energy_consumption Energy_efficiency_class              State  \\\n",
       "0                 NaN                      D   Baden-Württemberg   \n",
       "1                 NaN                     NaN  Baden-Württemberg   \n",
       "2                 NaN                      B   Baden-Württemberg   \n",
       "3                 NaN                      G   Baden-Württemberg   \n",
       "4                 NaN                      F   Baden-Württemberg   \n",
       "\n",
       "                City                    Place Garages   Garagetype  \n",
       "0      Bodenseekreis              Bermatingen     2.0  Parking lot  \n",
       "1   Konstanz (Kreis)                    Engen     7.0  Parking lot  \n",
       "2  Esslingen (Kreis)               Ostfildern     1.0       Garage  \n",
       "3   Waldshut (Kreis)  Bonndorf im Schwarzwald     1.0       Garage  \n",
       "4  Esslingen (Kreis)  Leinfelden-Echterdingen     1.0       Garage  \n",
       "\n",
       "[5 rows x 26 columns]"
      ]
     },
     "execution_count": 4,
     "metadata": {},
     "output_type": "execute_result"
    }
   ],
   "source": [
    "dataset.head()"
   ]
  },
  {
   "cell_type": "code",
   "execution_count": 5,
   "metadata": {},
   "outputs": [],
   "source": [
    "target = dataset.Price"
   ]
  },
  {
   "cell_type": "code",
   "execution_count": 6,
   "metadata": {},
   "outputs": [
    {
     "data": {
      "text/plain": [
       "0    498000.0\n",
       "1    495000.0\n",
       "2    749000.0\n",
       "3    259000.0\n",
       "4    469000.0\n",
       "Name: Price, dtype: float64"
      ]
     },
     "execution_count": 6,
     "metadata": {},
     "output_type": "execute_result"
    }
   ],
   "source": [
    "target.head()"
   ]
  },
  {
   "cell_type": "code",
   "execution_count": 7,
   "metadata": {},
   "outputs": [
    {
     "data": {
      "text/html": [
       "<div>\n",
       "<style scoped>\n",
       "    .dataframe tbody tr th:only-of-type {\n",
       "        vertical-align: middle;\n",
       "    }\n",
       "\n",
       "    .dataframe tbody tr th {\n",
       "        vertical-align: top;\n",
       "    }\n",
       "\n",
       "    .dataframe thead th {\n",
       "        text-align: right;\n",
       "    }\n",
       "</style>\n",
       "<table border=\"1\" class=\"dataframe\">\n",
       "  <thead>\n",
       "    <tr style=\"text-align: right;\">\n",
       "      <th></th>\n",
       "      <th>Unnamed: 0</th>\n",
       "      <th>Price</th>\n",
       "      <th>Living_space</th>\n",
       "      <th>Lot</th>\n",
       "      <th>Usable_area</th>\n",
       "      <th>Rooms</th>\n",
       "      <th>Bedrooms</th>\n",
       "      <th>Bathrooms</th>\n",
       "      <th>Floors</th>\n",
       "      <th>Year_built</th>\n",
       "      <th>Year_renovated</th>\n",
       "      <th>Energy_consumption</th>\n",
       "      <th>Garages</th>\n",
       "    </tr>\n",
       "  </thead>\n",
       "  <tbody>\n",
       "    <tr>\n",
       "      <th>count</th>\n",
       "      <td>10552.000000</td>\n",
       "      <td>1.055200e+04</td>\n",
       "      <td>10552.000000</td>\n",
       "      <td>10552.000000</td>\n",
       "      <td>5568.000000</td>\n",
       "      <td>10552.000000</td>\n",
       "      <td>6878.000000</td>\n",
       "      <td>8751.000000</td>\n",
       "      <td>7888.000000</td>\n",
       "      <td>9858.000000</td>\n",
       "      <td>5349.000000</td>\n",
       "      <td>2433.000000</td>\n",
       "      <td>8592.000000</td>\n",
       "    </tr>\n",
       "    <tr>\n",
       "      <th>mean</th>\n",
       "      <td>5275.500000</td>\n",
       "      <td>5.566851e+05</td>\n",
       "      <td>216.721008</td>\n",
       "      <td>1491.659004</td>\n",
       "      <td>134.300424</td>\n",
       "      <td>7.388978</td>\n",
       "      <td>4.169817</td>\n",
       "      <td>2.308993</td>\n",
       "      <td>2.283976</td>\n",
       "      <td>1958.821465</td>\n",
       "      <td>2010.706300</td>\n",
       "      <td>117.663111</td>\n",
       "      <td>2.698673</td>\n",
       "    </tr>\n",
       "    <tr>\n",
       "      <th>std</th>\n",
       "      <td>3046.244354</td>\n",
       "      <td>6.087410e+05</td>\n",
       "      <td>172.421321</td>\n",
       "      <td>8582.361675</td>\n",
       "      <td>188.814089</td>\n",
       "      <td>5.378126</td>\n",
       "      <td>2.577169</td>\n",
       "      <td>1.742330</td>\n",
       "      <td>0.821288</td>\n",
       "      <td>55.958072</td>\n",
       "      <td>10.548651</td>\n",
       "      <td>54.023207</td>\n",
       "      <td>3.195068</td>\n",
       "    </tr>\n",
       "    <tr>\n",
       "      <th>min</th>\n",
       "      <td>0.000000</td>\n",
       "      <td>0.000000e+00</td>\n",
       "      <td>0.000000</td>\n",
       "      <td>0.000000</td>\n",
       "      <td>0.000000</td>\n",
       "      <td>1.000000</td>\n",
       "      <td>0.000000</td>\n",
       "      <td>0.000000</td>\n",
       "      <td>0.000000</td>\n",
       "      <td>1300.000000</td>\n",
       "      <td>1900.000000</td>\n",
       "      <td>5.100000</td>\n",
       "      <td>1.000000</td>\n",
       "    </tr>\n",
       "    <tr>\n",
       "      <th>25%</th>\n",
       "      <td>2637.750000</td>\n",
       "      <td>2.500000e+05</td>\n",
       "      <td>130.000000</td>\n",
       "      <td>370.000000</td>\n",
       "      <td>48.000000</td>\n",
       "      <td>5.000000</td>\n",
       "      <td>3.000000</td>\n",
       "      <td>1.000000</td>\n",
       "      <td>2.000000</td>\n",
       "      <td>1935.000000</td>\n",
       "      <td>2006.000000</td>\n",
       "      <td>83.170000</td>\n",
       "      <td>1.000000</td>\n",
       "    </tr>\n",
       "    <tr>\n",
       "      <th>50%</th>\n",
       "      <td>5275.500000</td>\n",
       "      <td>4.052150e+05</td>\n",
       "      <td>176.775000</td>\n",
       "      <td>656.500000</td>\n",
       "      <td>80.000000</td>\n",
       "      <td>6.000000</td>\n",
       "      <td>4.000000</td>\n",
       "      <td>2.000000</td>\n",
       "      <td>2.000000</td>\n",
       "      <td>1971.000000</td>\n",
       "      <td>2015.000000</td>\n",
       "      <td>112.700000</td>\n",
       "      <td>2.000000</td>\n",
       "    </tr>\n",
       "    <tr>\n",
       "      <th>75%</th>\n",
       "      <td>7913.250000</td>\n",
       "      <td>6.550000e+05</td>\n",
       "      <td>250.000000</td>\n",
       "      <td>1047.000000</td>\n",
       "      <td>150.250000</td>\n",
       "      <td>8.000000</td>\n",
       "      <td>5.000000</td>\n",
       "      <td>3.000000</td>\n",
       "      <td>3.000000</td>\n",
       "      <td>1996.000000</td>\n",
       "      <td>2018.000000</td>\n",
       "      <td>146.000000</td>\n",
       "      <td>3.000000</td>\n",
       "    </tr>\n",
       "    <tr>\n",
       "      <th>max</th>\n",
       "      <td>10551.000000</td>\n",
       "      <td>1.300000e+07</td>\n",
       "      <td>5600.000000</td>\n",
       "      <td>547087.000000</td>\n",
       "      <td>4034.000000</td>\n",
       "      <td>170.000000</td>\n",
       "      <td>61.000000</td>\n",
       "      <td>44.000000</td>\n",
       "      <td>13.000000</td>\n",
       "      <td>2022.000000</td>\n",
       "      <td>2206.000000</td>\n",
       "      <td>503.940000</td>\n",
       "      <td>70.000000</td>\n",
       "    </tr>\n",
       "  </tbody>\n",
       "</table>\n",
       "</div>"
      ],
      "text/plain": [
       "         Unnamed: 0         Price  Living_space            Lot  Usable_area  \\\n",
       "count  10552.000000  1.055200e+04  10552.000000   10552.000000  5568.000000   \n",
       "mean    5275.500000  5.566851e+05    216.721008    1491.659004   134.300424   \n",
       "std     3046.244354  6.087410e+05    172.421321    8582.361675   188.814089   \n",
       "min        0.000000  0.000000e+00      0.000000       0.000000     0.000000   \n",
       "25%     2637.750000  2.500000e+05    130.000000     370.000000    48.000000   \n",
       "50%     5275.500000  4.052150e+05    176.775000     656.500000    80.000000   \n",
       "75%     7913.250000  6.550000e+05    250.000000    1047.000000   150.250000   \n",
       "max    10551.000000  1.300000e+07   5600.000000  547087.000000  4034.000000   \n",
       "\n",
       "              Rooms     Bedrooms    Bathrooms       Floors   Year_built  \\\n",
       "count  10552.000000  6878.000000  8751.000000  7888.000000  9858.000000   \n",
       "mean       7.388978     4.169817     2.308993     2.283976  1958.821465   \n",
       "std        5.378126     2.577169     1.742330     0.821288    55.958072   \n",
       "min        1.000000     0.000000     0.000000     0.000000  1300.000000   \n",
       "25%        5.000000     3.000000     1.000000     2.000000  1935.000000   \n",
       "50%        6.000000     4.000000     2.000000     2.000000  1971.000000   \n",
       "75%        8.000000     5.000000     3.000000     3.000000  1996.000000   \n",
       "max      170.000000    61.000000    44.000000    13.000000  2022.000000   \n",
       "\n",
       "       Year_renovated  Energy_consumption      Garages  \n",
       "count     5349.000000         2433.000000  8592.000000  \n",
       "mean      2010.706300          117.663111     2.698673  \n",
       "std         10.548651           54.023207     3.195068  \n",
       "min       1900.000000            5.100000     1.000000  \n",
       "25%       2006.000000           83.170000     1.000000  \n",
       "50%       2015.000000          112.700000     2.000000  \n",
       "75%       2018.000000          146.000000     3.000000  \n",
       "max       2206.000000          503.940000    70.000000  "
      ]
     },
     "execution_count": 7,
     "metadata": {},
     "output_type": "execute_result"
    }
   ],
   "source": [
    "dataset.describe()"
   ]
  },
  {
   "cell_type": "code",
   "execution_count": 8,
   "metadata": {},
   "outputs": [
    {
     "name": "stdout",
     "output_type": "stream",
     "text": [
      "<class 'pandas.core.frame.DataFrame'>\n",
      "RangeIndex: 10552 entries, 0 to 10551\n",
      "Data columns (total 26 columns):\n",
      " #   Column                   Non-Null Count  Dtype  \n",
      "---  ------                   --------------  -----  \n",
      " 0   Unnamed: 0               10552 non-null  int64  \n",
      " 1   Price                    10552 non-null  float64\n",
      " 2   Type                     10150 non-null  object \n",
      " 3   Living_space             10552 non-null  float64\n",
      " 4   Lot                      10552 non-null  float64\n",
      " 5   Usable_area              5568 non-null   float64\n",
      " 6   Free_of_Relation         6983 non-null   object \n",
      " 7   Rooms                    10552 non-null  float64\n",
      " 8   Bedrooms                 6878 non-null   float64\n",
      " 9   Bathrooms                8751 non-null   float64\n",
      " 10  Floors                   7888 non-null   float64\n",
      " 11  Year_built               9858 non-null   float64\n",
      " 12  Furnishing_quality       7826 non-null   object \n",
      " 13  Year_renovated           5349 non-null   float64\n",
      " 14  Condition                10229 non-null  object \n",
      " 15  Heating                  9968 non-null   object \n",
      " 16  Energy_source            9325 non-null   object \n",
      " 17  Energy_certificate       9797 non-null   object \n",
      " 18  Energy_certificate_type  7026 non-null   object \n",
      " 19  Energy_consumption       2433 non-null   float64\n",
      " 20  Energy_efficiency_class  5733 non-null   object \n",
      " 21  State                    10551 non-null  object \n",
      " 22  City                     10551 non-null  object \n",
      " 23  Place                    10262 non-null  object \n",
      " 24  Garages                  8592 non-null   float64\n",
      " 25  Garagetype               8592 non-null   object \n",
      "dtypes: float64(12), int64(1), object(13)\n",
      "memory usage: 1.6+ MB\n"
     ]
    }
   ],
   "source": [
    "dataset.info()"
   ]
  },
  {
   "cell_type": "code",
   "execution_count": 9,
   "metadata": {},
   "outputs": [
    {
     "data": {
      "text/plain": [
       "Unnamed: 0                 10552\n",
       "Price                       1411\n",
       "Type                          11\n",
       "Living_space                1867\n",
       "Lot                         2526\n",
       "Usable_area                 1012\n",
       "Free_of_Relation             705\n",
       "Rooms                         72\n",
       "Bedrooms                      32\n",
       "Bathrooms                     28\n",
       "Floors                        10\n",
       "Year_built                   292\n",
       "Furnishing_quality             4\n",
       "Year_renovated                67\n",
       "Condition                     10\n",
       "Heating                       13\n",
       "Energy_source                104\n",
       "Energy_certificate             3\n",
       "Energy_certificate_type        2\n",
       "Energy_consumption          1423\n",
       "Energy_efficiency_class        9\n",
       "State                         16\n",
       "City                         534\n",
       "Place                       4762\n",
       "Garages                       37\n",
       "Garagetype                     7\n",
       "dtype: int64"
      ]
     },
     "execution_count": 9,
     "metadata": {},
     "output_type": "execute_result"
    }
   ],
   "source": [
    "dataset.nunique()"
   ]
  },
  {
   "cell_type": "code",
   "execution_count": 10,
   "metadata": {},
   "outputs": [
    {
     "data": {
      "text/plain": [
       "(10552, 26)"
      ]
     },
     "execution_count": 10,
     "metadata": {},
     "output_type": "execute_result"
    }
   ],
   "source": [
    "dataset.shape"
   ]
  },
  {
   "cell_type": "code",
   "execution_count": 11,
   "metadata": {},
   "outputs": [
    {
     "data": {
      "text/plain": [
       "Unnamed: 0                    0\n",
       "Price                         0\n",
       "Type                        402\n",
       "Living_space                  0\n",
       "Lot                           0\n",
       "Usable_area                4984\n",
       "Free_of_Relation           3569\n",
       "Rooms                         0\n",
       "Bedrooms                   3674\n",
       "Bathrooms                  1801\n",
       "Floors                     2664\n",
       "Year_built                  694\n",
       "Furnishing_quality         2726\n",
       "Year_renovated             5203\n",
       "Condition                   323\n",
       "Heating                     584\n",
       "Energy_source              1227\n",
       "Energy_certificate          755\n",
       "Energy_certificate_type    3526\n",
       "Energy_consumption         8119\n",
       "Energy_efficiency_class    4819\n",
       "State                         1\n",
       "City                          1\n",
       "Place                       290\n",
       "Garages                    1960\n",
       "Garagetype                 1960\n",
       "dtype: int64"
      ]
     },
     "execution_count": 11,
     "metadata": {},
     "output_type": "execute_result"
    }
   ],
   "source": [
    "dataset.isna().sum()"
   ]
  },
  {
   "cell_type": "code",
   "execution_count": 12,
   "metadata": {},
   "outputs": [],
   "source": [
    "col_to_fill_zero = ['Usable_area', 'Free_of_Relation', 'Bedrooms', 'Bathrooms', 'Floors', 'Furnishing_quality', 'Year_renovated', 'Energy_source', 'Energy_certificate_type', 'Energy_consumption', 'Energy_efficiency_class']\n",
    "\n",
    "dataset[col_to_fill_zero] = dataset[col_to_fill_zero].fillna(0)"
   ]
  },
  {
   "cell_type": "code",
   "execution_count": 13,
   "metadata": {},
   "outputs": [
    {
     "data": {
      "text/plain": [
       "Unnamed: 0                    0\n",
       "Price                         0\n",
       "Type                        402\n",
       "Living_space                  0\n",
       "Lot                           0\n",
       "Usable_area                   0\n",
       "Free_of_Relation              0\n",
       "Rooms                         0\n",
       "Bedrooms                      0\n",
       "Bathrooms                     0\n",
       "Floors                        0\n",
       "Year_built                  694\n",
       "Furnishing_quality            0\n",
       "Year_renovated                0\n",
       "Condition                   323\n",
       "Heating                     584\n",
       "Energy_source                 0\n",
       "Energy_certificate          755\n",
       "Energy_certificate_type       0\n",
       "Energy_consumption            0\n",
       "Energy_efficiency_class       0\n",
       "State                         1\n",
       "City                          1\n",
       "Place                       290\n",
       "Garages                    1960\n",
       "Garagetype                 1960\n",
       "dtype: int64"
      ]
     },
     "execution_count": 13,
     "metadata": {},
     "output_type": "execute_result"
    }
   ],
   "source": [
    "dataset.isna().sum()"
   ]
  },
  {
   "cell_type": "code",
   "execution_count": 14,
   "metadata": {},
   "outputs": [],
   "source": [
    "dataset['Year_built'] = dataset['Year_built'].fillna(dataset.Year_built.mean())\n",
    "dataset['Garages'] = dataset['Garages'].fillna(dataset.Garages.mean())\n"
   ]
  },
  {
   "cell_type": "code",
   "execution_count": 15,
   "metadata": {},
   "outputs": [
    {
     "data": {
      "text/plain": [
       "Unnamed: 0                    0\n",
       "Price                         0\n",
       "Type                        402\n",
       "Living_space                  0\n",
       "Lot                           0\n",
       "Usable_area                   0\n",
       "Free_of_Relation              0\n",
       "Rooms                         0\n",
       "Bedrooms                      0\n",
       "Bathrooms                     0\n",
       "Floors                        0\n",
       "Year_built                    0\n",
       "Furnishing_quality            0\n",
       "Year_renovated                0\n",
       "Condition                   323\n",
       "Heating                     584\n",
       "Energy_source                 0\n",
       "Energy_certificate          755\n",
       "Energy_certificate_type       0\n",
       "Energy_consumption            0\n",
       "Energy_efficiency_class       0\n",
       "State                         1\n",
       "City                          1\n",
       "Place                       290\n",
       "Garages                       0\n",
       "Garagetype                 1960\n",
       "dtype: int64"
      ]
     },
     "execution_count": 15,
     "metadata": {},
     "output_type": "execute_result"
    }
   ],
   "source": [
    "dataset.isna().sum()"
   ]
  },
  {
   "cell_type": "code",
   "execution_count": 16,
   "metadata": {},
   "outputs": [],
   "source": [
    "dataset.dropna(inplace = True)"
   ]
  },
  {
   "cell_type": "code",
   "execution_count": 17,
   "metadata": {},
   "outputs": [
    {
     "data": {
      "text/plain": [
       "Unnamed: 0                 0\n",
       "Price                      0\n",
       "Type                       0\n",
       "Living_space               0\n",
       "Lot                        0\n",
       "Usable_area                0\n",
       "Free_of_Relation           0\n",
       "Rooms                      0\n",
       "Bedrooms                   0\n",
       "Bathrooms                  0\n",
       "Floors                     0\n",
       "Year_built                 0\n",
       "Furnishing_quality         0\n",
       "Year_renovated             0\n",
       "Condition                  0\n",
       "Heating                    0\n",
       "Energy_source              0\n",
       "Energy_certificate         0\n",
       "Energy_certificate_type    0\n",
       "Energy_consumption         0\n",
       "Energy_efficiency_class    0\n",
       "State                      0\n",
       "City                       0\n",
       "Place                      0\n",
       "Garages                    0\n",
       "Garagetype                 0\n",
       "dtype: int64"
      ]
     },
     "execution_count": 17,
     "metadata": {},
     "output_type": "execute_result"
    }
   ],
   "source": [
    "dataset.isna().sum()"
   ]
  },
  {
   "cell_type": "code",
   "execution_count": 18,
   "metadata": {},
   "outputs": [],
   "source": [
    "dataset = pd.get_dummies(dataset, drop_first=True)"
   ]
  },
  {
   "cell_type": "code",
   "execution_count": 19,
   "metadata": {},
   "outputs": [
    {
     "data": {
      "text/html": [
       "<div>\n",
       "<style scoped>\n",
       "    .dataframe tbody tr th:only-of-type {\n",
       "        vertical-align: middle;\n",
       "    }\n",
       "\n",
       "    .dataframe tbody tr th {\n",
       "        vertical-align: top;\n",
       "    }\n",
       "\n",
       "    .dataframe thead th {\n",
       "        text-align: right;\n",
       "    }\n",
       "</style>\n",
       "<table border=\"1\" class=\"dataframe\">\n",
       "  <thead>\n",
       "    <tr style=\"text-align: right;\">\n",
       "      <th></th>\n",
       "      <th>Unnamed: 0</th>\n",
       "      <th>Price</th>\n",
       "      <th>Living_space</th>\n",
       "      <th>Lot</th>\n",
       "      <th>Usable_area</th>\n",
       "      <th>Rooms</th>\n",
       "      <th>Bedrooms</th>\n",
       "      <th>Bathrooms</th>\n",
       "      <th>Floors</th>\n",
       "      <th>Year_built</th>\n",
       "      <th>...</th>\n",
       "      <th>Place_Überherrn</th>\n",
       "      <th>Place_Überlingen</th>\n",
       "      <th>Place_Ückendorf</th>\n",
       "      <th>Place_Ürzig</th>\n",
       "      <th>Garagetype_Carport</th>\n",
       "      <th>Garagetype_Duplex lot</th>\n",
       "      <th>Garagetype_Garage</th>\n",
       "      <th>Garagetype_Outside parking lot</th>\n",
       "      <th>Garagetype_Parking lot</th>\n",
       "      <th>Garagetype_Underground parking lot</th>\n",
       "    </tr>\n",
       "  </thead>\n",
       "  <tbody>\n",
       "    <tr>\n",
       "      <th>0</th>\n",
       "      <td>0</td>\n",
       "      <td>498000.0</td>\n",
       "      <td>106.00</td>\n",
       "      <td>229.0</td>\n",
       "      <td>0.00</td>\n",
       "      <td>5.5</td>\n",
       "      <td>3.0</td>\n",
       "      <td>1.0</td>\n",
       "      <td>2.0</td>\n",
       "      <td>2005.0</td>\n",
       "      <td>...</td>\n",
       "      <td>0</td>\n",
       "      <td>0</td>\n",
       "      <td>0</td>\n",
       "      <td>0</td>\n",
       "      <td>0</td>\n",
       "      <td>0</td>\n",
       "      <td>0</td>\n",
       "      <td>0</td>\n",
       "      <td>1</td>\n",
       "      <td>0</td>\n",
       "    </tr>\n",
       "    <tr>\n",
       "      <th>1</th>\n",
       "      <td>1</td>\n",
       "      <td>495000.0</td>\n",
       "      <td>140.93</td>\n",
       "      <td>517.0</td>\n",
       "      <td>20.00</td>\n",
       "      <td>6.0</td>\n",
       "      <td>3.0</td>\n",
       "      <td>2.0</td>\n",
       "      <td>0.0</td>\n",
       "      <td>1994.0</td>\n",
       "      <td>...</td>\n",
       "      <td>0</td>\n",
       "      <td>0</td>\n",
       "      <td>0</td>\n",
       "      <td>0</td>\n",
       "      <td>0</td>\n",
       "      <td>0</td>\n",
       "      <td>0</td>\n",
       "      <td>0</td>\n",
       "      <td>1</td>\n",
       "      <td>0</td>\n",
       "    </tr>\n",
       "    <tr>\n",
       "      <th>2</th>\n",
       "      <td>2</td>\n",
       "      <td>749000.0</td>\n",
       "      <td>162.89</td>\n",
       "      <td>82.0</td>\n",
       "      <td>37.62</td>\n",
       "      <td>5.0</td>\n",
       "      <td>3.0</td>\n",
       "      <td>2.0</td>\n",
       "      <td>4.0</td>\n",
       "      <td>2013.0</td>\n",
       "      <td>...</td>\n",
       "      <td>0</td>\n",
       "      <td>0</td>\n",
       "      <td>0</td>\n",
       "      <td>0</td>\n",
       "      <td>0</td>\n",
       "      <td>0</td>\n",
       "      <td>1</td>\n",
       "      <td>0</td>\n",
       "      <td>0</td>\n",
       "      <td>0</td>\n",
       "    </tr>\n",
       "    <tr>\n",
       "      <th>3</th>\n",
       "      <td>3</td>\n",
       "      <td>259000.0</td>\n",
       "      <td>140.00</td>\n",
       "      <td>814.0</td>\n",
       "      <td>0.00</td>\n",
       "      <td>4.0</td>\n",
       "      <td>0.0</td>\n",
       "      <td>2.0</td>\n",
       "      <td>2.0</td>\n",
       "      <td>1900.0</td>\n",
       "      <td>...</td>\n",
       "      <td>0</td>\n",
       "      <td>0</td>\n",
       "      <td>0</td>\n",
       "      <td>0</td>\n",
       "      <td>0</td>\n",
       "      <td>0</td>\n",
       "      <td>1</td>\n",
       "      <td>0</td>\n",
       "      <td>0</td>\n",
       "      <td>0</td>\n",
       "    </tr>\n",
       "    <tr>\n",
       "      <th>4</th>\n",
       "      <td>4</td>\n",
       "      <td>469000.0</td>\n",
       "      <td>115.00</td>\n",
       "      <td>244.0</td>\n",
       "      <td>0.00</td>\n",
       "      <td>4.5</td>\n",
       "      <td>2.0</td>\n",
       "      <td>1.0</td>\n",
       "      <td>0.0</td>\n",
       "      <td>1968.0</td>\n",
       "      <td>...</td>\n",
       "      <td>0</td>\n",
       "      <td>0</td>\n",
       "      <td>0</td>\n",
       "      <td>0</td>\n",
       "      <td>0</td>\n",
       "      <td>0</td>\n",
       "      <td>1</td>\n",
       "      <td>0</td>\n",
       "      <td>0</td>\n",
       "      <td>0</td>\n",
       "    </tr>\n",
       "  </tbody>\n",
       "</table>\n",
       "<p>5 rows × 4912 columns</p>\n",
       "</div>"
      ],
      "text/plain": [
       "   Unnamed: 0     Price  Living_space    Lot  Usable_area  Rooms  Bedrooms  \\\n",
       "0           0  498000.0        106.00  229.0         0.00    5.5       3.0   \n",
       "1           1  495000.0        140.93  517.0        20.00    6.0       3.0   \n",
       "2           2  749000.0        162.89   82.0        37.62    5.0       3.0   \n",
       "3           3  259000.0        140.00  814.0         0.00    4.0       0.0   \n",
       "4           4  469000.0        115.00  244.0         0.00    4.5       2.0   \n",
       "\n",
       "   Bathrooms  Floors  Year_built  ...  Place_Überherrn  Place_Überlingen  \\\n",
       "0        1.0     2.0      2005.0  ...                0                 0   \n",
       "1        2.0     0.0      1994.0  ...                0                 0   \n",
       "2        2.0     4.0      2013.0  ...                0                 0   \n",
       "3        2.0     2.0      1900.0  ...                0                 0   \n",
       "4        1.0     0.0      1968.0  ...                0                 0   \n",
       "\n",
       "   Place_Ückendorf  Place_Ürzig  Garagetype_Carport  Garagetype_Duplex lot  \\\n",
       "0                0            0                   0                      0   \n",
       "1                0            0                   0                      0   \n",
       "2                0            0                   0                      0   \n",
       "3                0            0                   0                      0   \n",
       "4                0            0                   0                      0   \n",
       "\n",
       "   Garagetype_Garage  Garagetype_Outside parking lot  Garagetype_Parking lot  \\\n",
       "0                  0                               0                       1   \n",
       "1                  0                               0                       1   \n",
       "2                  1                               0                       0   \n",
       "3                  1                               0                       0   \n",
       "4                  1                               0                       0   \n",
       "\n",
       "   Garagetype_Underground parking lot  \n",
       "0                                   0  \n",
       "1                                   0  \n",
       "2                                   0  \n",
       "3                                   0  \n",
       "4                                   0  \n",
       "\n",
       "[5 rows x 4912 columns]"
      ]
     },
     "execution_count": 19,
     "metadata": {},
     "output_type": "execute_result"
    }
   ],
   "source": [
    "dataset.head()"
   ]
  },
  {
   "cell_type": "code",
   "execution_count": 20,
   "metadata": {},
   "outputs": [],
   "source": [
    "X = dataset.drop('Price', axis='columns')\n",
    "y = dataset.Price"
   ]
  },
  {
   "cell_type": "code",
   "execution_count": 21,
   "metadata": {},
   "outputs": [
    {
     "data": {
      "text/plain": [
       "(7003, 7003)"
      ]
     },
     "execution_count": 21,
     "metadata": {},
     "output_type": "execute_result"
    }
   ],
   "source": [
    "len(X), len(y)"
   ]
  },
  {
   "cell_type": "code",
   "execution_count": 22,
   "metadata": {},
   "outputs": [],
   "source": [
    "from sklearn.model_selection import train_test_split\n",
    "X_train, X_test, y_train, y_test = train_test_split(X, y, test_size=0.3)"
   ]
  },
  {
   "cell_type": "code",
   "execution_count": 23,
   "metadata": {},
   "outputs": [
    {
     "data": {
      "text/plain": [
       "(4902, 2101)"
      ]
     },
     "execution_count": 23,
     "metadata": {},
     "output_type": "execute_result"
    }
   ],
   "source": [
    "len(X_train), len(X_test)"
   ]
  },
  {
   "cell_type": "code",
   "execution_count": 24,
   "metadata": {},
   "outputs": [],
   "source": [
    "from sklearn.linear_model import LinearRegression"
   ]
  },
  {
   "cell_type": "code",
   "execution_count": 25,
   "metadata": {},
   "outputs": [],
   "source": [
    "model = LinearRegression()"
   ]
  },
  {
   "cell_type": "code",
   "execution_count": 26,
   "metadata": {},
   "outputs": [
    {
     "data": {
      "text/plain": [
       "LinearRegression()"
      ]
     },
     "execution_count": 26,
     "metadata": {},
     "output_type": "execute_result"
    }
   ],
   "source": [
    "model.fit(X_train, y_train)"
   ]
  },
  {
   "cell_type": "code",
   "execution_count": 27,
   "metadata": {},
   "outputs": [],
   "source": [
    "predict_y = model.predict(X_test)"
   ]
  },
  {
   "cell_type": "code",
   "execution_count": 28,
   "metadata": {},
   "outputs": [
    {
     "data": {
      "text/plain": [
       "0.939843568211342"
      ]
     },
     "execution_count": 28,
     "metadata": {},
     "output_type": "execute_result"
    }
   ],
   "source": [
    "model.score(X_train, y_train)"
   ]
  },
  {
   "cell_type": "code",
   "execution_count": 29,
   "metadata": {},
   "outputs": [
    {
     "data": {
      "text/plain": [
       "-1.3775498351223968e+16"
      ]
     },
     "execution_count": 29,
     "metadata": {},
     "output_type": "execute_result"
    }
   ],
   "source": [
    "model.score(X_test, y_test)"
   ]
  },
  {
   "cell_type": "markdown",
   "metadata": {},
   "source": [
    "## by using L1 Regularization"
   ]
  },
  {
   "cell_type": "code",
   "execution_count": 30,
   "metadata": {},
   "outputs": [
    {
     "data": {
      "text/plain": [
       "Lasso()"
      ]
     },
     "execution_count": 30,
     "metadata": {},
     "output_type": "execute_result"
    }
   ],
   "source": [
    "from sklearn import linear_model \n",
    "lasso_reg = linear_model.Lasso()\n",
    "lasso_reg.fit(X_train, y_train)"
   ]
  },
  {
   "cell_type": "code",
   "execution_count": 31,
   "metadata": {},
   "outputs": [
    {
     "data": {
      "text/plain": [
       "0.9397209418459118"
      ]
     },
     "execution_count": 31,
     "metadata": {},
     "output_type": "execute_result"
    }
   ],
   "source": [
    "lasso_reg.score(X_train, y_train)"
   ]
  },
  {
   "cell_type": "code",
   "execution_count": 32,
   "metadata": {},
   "outputs": [
    {
     "data": {
      "text/plain": [
       "0.5050459389460508"
      ]
     },
     "execution_count": 32,
     "metadata": {},
     "output_type": "execute_result"
    }
   ],
   "source": [
    "lasso_reg.score(X_test, y_test)"
   ]
  },
  {
   "cell_type": "markdown",
   "metadata": {},
   "source": [
    "## by using L2 Regularization"
   ]
  },
  {
   "cell_type": "code",
   "execution_count": 33,
   "metadata": {},
   "outputs": [],
   "source": [
    "from sklearn.linear_model import Ridge"
   ]
  },
  {
   "cell_type": "code",
   "execution_count": 34,
   "metadata": {},
   "outputs": [],
   "source": [
    "ridge_reg = Ridge()"
   ]
  },
  {
   "cell_type": "code",
   "execution_count": 35,
   "metadata": {},
   "outputs": [
    {
     "data": {
      "text/plain": [
       "Ridge()"
      ]
     },
     "execution_count": 35,
     "metadata": {},
     "output_type": "execute_result"
    }
   ],
   "source": [
    "ridge_reg.fit(X_train, y_train)"
   ]
  },
  {
   "cell_type": "code",
   "execution_count": 36,
   "metadata": {},
   "outputs": [
    {
     "data": {
      "text/plain": [
       "0.8768196980010252"
      ]
     },
     "execution_count": 36,
     "metadata": {},
     "output_type": "execute_result"
    }
   ],
   "source": [
    "ridge_reg.score(X_train, y_train)"
   ]
  },
  {
   "cell_type": "code",
   "execution_count": 37,
   "metadata": {},
   "outputs": [
    {
     "data": {
      "text/plain": [
       "0.6281123263328496"
      ]
     },
     "execution_count": 37,
     "metadata": {},
     "output_type": "execute_result"
    }
   ],
   "source": [
    "ridge_reg.score(X_test, y_test)"
   ]
  },
  {
   "cell_type": "code",
   "execution_count": null,
   "metadata": {},
   "outputs": [],
   "source": []
  }
 ],
 "metadata": {
  "kernelspec": {
   "display_name": "Python 3",
   "language": "python",
   "name": "python3"
  },
  "language_info": {
   "codemirror_mode": {
    "name": "ipython",
    "version": 3
   },
   "file_extension": ".py",
   "mimetype": "text/x-python",
   "name": "python",
   "nbconvert_exporter": "python",
   "pygments_lexer": "ipython3",
   "version": "3.8.4"
  }
 },
 "nbformat": 4,
 "nbformat_minor": 4
}
